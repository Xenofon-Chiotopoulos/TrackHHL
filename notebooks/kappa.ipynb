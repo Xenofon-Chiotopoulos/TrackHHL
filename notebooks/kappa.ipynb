{
 "cells": [
  {
   "cell_type": "markdown",
   "metadata": {},
   "source": [
    "# Condition number study\n",
    "\n",
    "This notebook shows the study of the condition number of the matrix $A$ as a function of the number of particles and layers in the events."
   ]
  },
  {
   "cell_type": "markdown",
   "metadata": {},
   "source": [
    "## $\\kappa$ vs. number of particles\n",
    "\n",
    "The condition number $\\kappa$ is evaluated on toy events in a detector with 10 layers. The number of particles ranges between 2 and 100"
   ]
  },
  {
   "cell_type": "code",
   "execution_count": 6,
   "metadata": {},
   "outputs": [],
   "source": [
    "from trackhhl.toy.simple_generator import SimpleDetectorGeometry, SimpleGenerator\n",
    "from trackhhl.hamiltonians.simple_hamiltonian import SimpleHamiltonian\n",
    "from dataclasses import dataclass, field\n",
    "import matplotlib.pyplot as plt\n",
    "import numpy as np\n",
    "from scipy.sparse.linalg import eigsh\n",
    "\n",
    "N_LAYERS = 10           # Half of the VELO\n",
    "MIN_PARTICLES = 2       #\n",
    "MAX_PARTILCES = 100      # ~1600 hits maximum\n",
    "THRESHOLD = .45\n",
    "DETECTOR = SimpleDetectorGeometry([i for i in range(N_LAYERS)], [float(\"+inf\") for i in range(N_LAYERS)], [float(\"+inf\") for i in range(N_LAYERS)], [i+1 for i in range(N_LAYERS)])\n",
    "\n",
    "@dataclass\n",
    "class Run:\n",
    "    min_particles: int  = MIN_PARTICLES\n",
    "    max_particles: int  = MAX_PARTILCES  \n",
    "    n_layers: int       = N_LAYERS\n",
    "    n_particles: int    = field(default_factory=list)\n",
    "    lambda_min: list    = field(default_factory=list)\n",
    "    lambda_max: list    = field(default_factory=list)\n",
    "    kappa: list         = field(default_factory=list)\n",
    "    hits : list         = field(default_factory=list)\n",
    "    segments : list     = field(default_factory=list)\n",
    "    detector : list     = DETECTOR\n",
    "    max_theta : list    = np.pi / 3\n",
    "    epsilon : float     = 1e-5\n",
    "    gamma : float       = 2.0\n",
    "    delta : float       = 1.0\n",
    "    \n",
    "              \n",
    "    def execute(self):\n",
    "        generator = SimpleGenerator(self.detector, theta_max=self.max_theta)\n",
    "    \n",
    "        for n_particles in range(self.min_particles, self.max_particles):\n",
    "            event = generator.generate_event(n_particles)\n",
    "            self.hits.append(len(event.hits))\n",
    "            self.n_particles.append(n_particles)\n",
    "            hamiltonian = SimpleHamiltonian(self.epsilon, self.gamma, self.delta)\n",
    "            hamiltonian.construct_hamiltonian(event)\n",
    "            largest_eigval,  = eigsh(hamiltonian.A, k=1, which=\"LM\", return_eigenvectors=False)\n",
    "            smallest_eigval,  = eigsh(hamiltonian.A, k=1, which=\"SM\", return_eigenvectors=False)\n",
    "            self.lambda_max.append(largest_eigval)\n",
    "            self.lambda_min.append(smallest_eigval)\n",
    "            kappa = np.abs(largest_eigval/smallest_eigval)\n",
    "            self.kappa.append(kappa)\n",
    "            self.segments.append(len(hamiltonian.segments))\n",
    "            print(f\"{n_particles}   {largest_eigval}    {smallest_eigval}   {kappa}\")\n",
    "            \n",
    "            #solution = hamiltonian.solve_classicaly()\n",
    "            \n",
    "            #discretised_solution = (solution > THRESHOLD)\n",
    "            #truth_solution = [seg.hit_from.track_id == seg.hit_to.track_id for seg in hamiltonian.segments]\n",
    "            \n",
    "            "
   ]
  },
  {
   "cell_type": "code",
   "execution_count": 7,
   "metadata": {},
   "outputs": [
    {
     "name": "stdout",
     "output_type": "stream",
     "text": [
      "2   4.902113032590309    1.0978869674096918   4.465043468141486\n",
      "3   4.902113032590308    1.0978869674096925   4.465043468141483\n",
      "4   4.90211303259031    1.0978869674096907   4.4650434681414914\n",
      "5   4.902113032590307    1.097886967409692   4.4650434681414835\n",
      "6   4.902113032590309    1.0978869674096923   4.465043468141484\n",
      "7   4.902113032590309    1.097886967409693   4.465043468141482\n",
      "8   4.902113032590307    1.0978869674096914   4.465043468141486\n",
      "9   4.902113032590308    1.0978869674096914   4.465043468141487\n",
      "10   4.902113032590307    1.0978869674096927   4.465043468141481\n",
      "11   4.902113032590308    1.0978869674096925   4.465043468141483\n",
      "12   4.902113032590306    1.097886967409693   4.465043468141479\n",
      "13   4.902113032590309    1.097886967409692   4.465043468141485\n",
      "14   4.902113032590308    1.0978869674096934   4.465043468141479\n",
      "15   4.902113032590309    1.0978869674096932   4.465043468141481\n",
      "16   4.90211303259031    1.0978869674096916   4.465043468141488\n",
      "17   4.902113032590313    1.0978869674096918   4.46504346814149\n",
      "18   4.902113032590307    1.097886967409692   4.4650434681414835\n",
      "19   4.902113032590306    1.0978869674096907   4.465043468141488\n",
      "20   4.902113032590307    1.0978869674096918   4.465043468141484\n",
      "21   4.902113032590307    1.0978869674096927   4.465043468141481\n",
      "22   4.902113032590306    1.0978869674096912   4.465043468141486\n",
      "23   4.902113032590308    1.0978869674096914   4.465043468141487\n",
      "24   4.902113032590309    1.0978869674096916   4.465043468141487\n",
      "25   4.902113032590308    1.0978869674096927   4.465043468141482\n",
      "26   4.90211303259031    1.0978869674096903   4.465043468141493\n",
      "27   4.902113032590312    1.097886967409691   4.465043468141492\n",
      "28   4.902113032590311    1.097886967409692   4.465043468141487\n",
      "29   4.902113032590304    1.0978869674096927   4.465043468141477\n",
      "30   4.902113032590308    1.0978869674096923   4.4650434681414835\n",
      "31   4.902113032590306    1.0978869674096887   4.465043468141496\n",
      "32   4.902113032590307    1.0978869674096932   4.465043468141479\n",
      "33   4.902113032590306    1.097886967409686   4.465043468141507\n",
      "34   4.902113032590306    1.097886967409691   4.465043468141487\n",
      "35   4.902113032590313    1.097886967409693   4.465043468141484\n",
      "36   4.902113032590308    1.0978869674096903   4.4650434681414914\n",
      "37   4.90211303259032    1.0978869674096903   4.465043468141502\n",
      "38   4.902113032590308    1.0978869674096898   4.465043468141493\n",
      "39   4.90211303259031    1.0978869674096923   4.465043468141485\n",
      "40   4.902113032590306    1.09788696740969   4.465043468141491\n",
      "41   4.902113032590311    1.0978869674096923   4.465043468141486\n",
      "42   4.90211303259031    1.097886967409692   4.465043468141486\n",
      "43   4.9021130325903135    1.0978869674096912   4.465043468141493\n",
      "44   4.902113032590317    1.0978869674096925   4.465043468141491\n",
      "45   4.902113032590311    1.097886967409692   4.465043468141487\n",
      "46   4.90211303259031    1.097886967409692   4.465043468141486\n",
      "47   4.9021130325903135    1.0978869674096932   4.465043468141484\n",
      "48   4.902113032590308    1.0978869674096892   4.465043468141496\n",
      "49   4.902113032590311    1.0978869674096918   4.465043468141488\n",
      "50   4.902113032590312    1.0978869674096918   4.465043468141489\n",
      "51   4.902113032590315    1.0978869674096936   4.465043468141484\n",
      "52   4.902113032590314    1.097886967409693   4.465043468141486\n",
      "53   4.902113032590319    1.0978869674096845   4.465043468141524\n",
      "54   4.902113032590309    1.0978869674096916   4.465043468141487\n",
      "55   4.90211303259031    1.0978869674096927   4.4650434681414835\n",
      "56   4.902113032590311    1.0978869674096883   4.465043468141502\n",
      "57   4.902113032590307    1.0978869674096883   4.4650434681414986\n",
      "58   4.902113032590308    1.097886967409687   4.465043468141505\n",
      "59   4.902113032590312    1.097886967409684   4.46504346814152\n",
      "60   4.902113032590311    1.0978869674096927   4.465043468141484\n",
      "61   4.902113032590312    1.097886967409691   4.465043468141492\n",
      "62   4.902113032590312    1.097886967409691   4.465043468141492\n",
      "63   4.90211303259031    1.0978869674096912   4.46504346814149\n",
      "64   4.902113032590309    1.0978869674096905   4.4650434681414914\n",
      "65   4.902113032590307    1.09788696740969   4.4650434681414914\n",
      "66   4.902113032590312    1.0978869674096918   4.465043468141489\n",
      "67   4.902113032590311    1.0978869674096865   4.465043468141509\n",
      "68   4.902113032590309    1.0978869674096892   4.465043468141497\n",
      "69   4.902113032590314    1.0978869674096936   4.4650434681414835\n",
      "70   4.90211303259031    1.0978869674096872   4.465043468141506\n",
      "71   4.902113032590312    1.0978869674096914   4.465043468141491\n",
      "72   4.902113032590322    1.0978869674096867   4.465043468141519\n",
      "73   4.902113032590308    1.0978869674096934   4.465043468141479\n",
      "74   4.90211303259031    1.0978869674096903   4.465043468141493\n",
      "75   4.902113032590307    1.0978869674096867   4.465043468141505\n",
      "76   4.902113032590309    1.0978869674096927   4.465043468141483\n",
      "77   4.902113032590307    1.0978869674096927   4.465043468141481\n",
      "78   4.902113032590309    1.09788696740969   4.465043468141493\n",
      "79   4.902113032590318    1.0978869674096894   4.465043468141504\n",
      "80   4.9021130325903135    1.0978869674096912   4.465043468141493\n",
      "81   4.902113032590313    1.097886967409692   4.465043468141489\n",
      "82   5.090963924517577    0.9090360754824208   5.600398116010774\n",
      "83   4.902113032590315    1.0978869674096905   4.465043468141497\n",
      "84   4.9021130325903055    1.097886967409692   4.465043468141482\n",
      "85   5.090963924517584    0.9090360754824174   5.600398116010802\n",
      "86   4.902113032590312    1.097886967409683   4.465043468141524\n",
      "87   4.969615506024421    1.0303844939755864   4.823068995196048\n",
      "88   4.902113032590306    1.0978869674096832   4.465043468141519\n",
      "89   4.9021130325903135    1.0978869674096872   4.465043468141509\n",
      "90   4.902113032590313    1.097886967409691   4.465043468141493\n",
      "91   4.902113032590319    1.0978869674096856   4.46504346814152\n",
      "92   4.902113032590305    1.0978869674096903   4.465043468141488\n",
      "93   4.90211303259031    1.0978869674096854   4.465043468141513\n",
      "94   4.9021130325903135    1.0978869674096887   4.465043468141503\n",
      "95   4.902113032590314    1.0978869674096927   4.465043468141487\n",
      "96   4.9021130325903215    1.0978869674096885   4.465043468141511\n",
      "97   4.902113032590322    1.0978869674096914   4.4650434681415\n",
      "98   4.902113032590313    1.09788696740969   4.465043468141497\n",
      "99   4.90211303259032    1.0978869674096872   4.4650434681415145\n"
     ]
    }
   ],
   "source": [
    "run = Run()\n",
    "run.execute()"
   ]
  },
  {
   "cell_type": "code",
   "execution_count": 8,
   "metadata": {},
   "outputs": [
    {
     "data": {
      "text/plain": [
       "<matplotlib.collections.PathCollection at 0x1666258d0>"
      ]
     },
     "execution_count": 8,
     "metadata": {},
     "output_type": "execute_result"
    },
    {
     "data": {
      "image/png": "[encoded data removed]",
      "text/plain": [
       "<Figure size 640x480 with 1 Axes>"
      ]
     },
     "metadata": {},
     "output_type": "display_data"
    }
   ],
   "source": [
    "plt.scatter(run.n_particles, run.kappa)\n",
    "plt.xlabel(\"Number of particles\")\n",
    "plt.ylabel(\"Condition number\")"
   ]
  },
  {
   "cell_type": "markdown",
   "metadata": {},
   "source": [
    "## $\\kappa$ vs number of layers\n",
    "\n",
    "In this case we keep the number of particles constant to 50 and vary the number of layers in the detector from 3 to 30."
   ]
  },
  {
   "cell_type": "code",
   "execution_count": 9,
   "metadata": {},
   "outputs": [],
   "source": [
    "MIN_LAYERS = 3            # Half of the VELO\n",
    "MAX_LAYERS = 30           # Half of the VELO\n",
    "N_PARTICLES = 50\n",
    "THRESHOLD = .45\n",
    "\n",
    "\n",
    "@dataclass\n",
    "class RunLayer:\n",
    "    n_particles: int  = N_PARTICLES\n",
    "    min_layers: int     = MIN_LAYERS\n",
    "    max_layers: int     = MAX_LAYERS\n",
    "    n_layers: int       = field(default_factory=list)\n",
    "    lambda_min: list    = field(default_factory=list)\n",
    "    lambda_max: list    = field(default_factory=list)\n",
    "    kappa: list         = field(default_factory=list)\n",
    "    hits : list         = field(default_factory=list)\n",
    "    segments : list     = field(default_factory=list)\n",
    "    detector : list     = DETECTOR\n",
    "    max_theta : list    = np.pi / 3\n",
    "    epsilon : float     = 1e-5\n",
    "    gamma : float       = 2.0\n",
    "    delta : float       = 1.0\n",
    "    \n",
    "              \n",
    "    def execute(self):\n",
    "        \n",
    "        \n",
    "        for n_layers in range(MIN_LAYERS, MAX_LAYERS):\n",
    "            detector = SimpleDetectorGeometry([i for i in range(n_layers)], [float(\"+inf\") for i in range(n_layers)], [float(\"+inf\") for i in range(n_layers)], [i+1 for i in range(n_layers)])\n",
    "            generator = SimpleGenerator(detector, theta_max=self.max_theta)\n",
    "            event = generator.generate_event(self.n_particles)\n",
    "            self.hits.append(len(event.hits))\n",
    "            self.n_layers.append(n_layers)\n",
    "            hamiltonian = SimpleHamiltonian(self.epsilon, self.gamma, self.delta)\n",
    "            hamiltonian.construct_hamiltonian(event)\n",
    "            largest_eigval,  = eigsh(hamiltonian.A, k=1, which=\"LM\", return_eigenvectors=False)\n",
    "            smallest_eigval,  = eigsh(hamiltonian.A, k=1, which=\"SM\", return_eigenvectors=False)\n",
    "            self.lambda_max.append(largest_eigval)\n",
    "            self.lambda_min.append(smallest_eigval)\n",
    "            kappa = np.abs(largest_eigval/smallest_eigval)\n",
    "            self.kappa.append(kappa)\n",
    "            self.segments.append(len(hamiltonian.segments))\n",
    "            print(f\"{n_layers}   {largest_eigval}    {smallest_eigval}   {kappa}\")\n",
    "            \n",
    "            #solution = hamiltonian.solve_classicaly()\n",
    "            \n",
    "            #discretised_solution = (solution > THRESHOLD)\n",
    "            #truth_solution = [seg.hit_from.track_id == seg.hit_to.track_id for seg in hamiltonian.segments]\n",
    "            \n",
    "            "
   ]
  },
  {
   "cell_type": "code",
   "execution_count": 10,
   "metadata": {},
   "outputs": [
    {
     "name": "stdout",
     "output_type": "stream",
     "text": [
      "3   4.000000000000002    1.9999999999999971   2.000000000000004\n",
      "4   4.4142135623731    1.585786437626902   2.783611624891233\n",
      "5   4.6180339887498985    1.381966011250104   3.3416407864998794\n",
      "6   4.732050807568881    1.267949192431116   3.7320508075689003\n",
      "7   4.801937735804839    1.1980622641951622   4.008086957843296\n",
      "8   4.847759065022579    1.1522409349774267   4.207244264514479\n",
      "9   4.879385241571825    1.120614758428181   4.3542039803365125\n",
      "10   4.902113032590315    1.0978869674096896   4.4650434681415\n",
      "11   4.918985947228999    1.0810140527710068   4.550344127923189\n",
      "12   4.9318516525781435    1.068148347421855   4.617197287700672\n",
      "13   4.941883634852103    1.0581163651478933   4.67045383440542\n",
      "14   4.9498558243636674    1.05014417563635   4.7135011926950225\n",
      "15   4.987424419786486    1.0125755802135084   4.92548360561377\n",
      "16   4.961570560806476    1.0384294391935383   4.777956376756532\n",
      "17   4.965946199367806    1.0340538006321958   4.802406022135159\n",
      "18   4.969615506024416    1.0303844939755826   4.823068995196063\n",
      "19   4.9727226068054495    1.027277393194544   4.840681435947578\n",
      "20   4.975376681190279    1.024623318809718   4.855810510900789\n",
      "21   4.977661652450257    1.0223383475497416   4.868898505451074\n",
      "22   4.979642883761866    1.0203571162381364   4.8802941681054435\n",
      "23   4.981371892072664    1.0186281079273365   4.890275315697462\n",
      "24   4.982889722747625    1.0171102772523763   4.899065356225102\n",
      "25   4.984229402628955    1.0157705973710391   4.906845517608858\n",
      "26   4.985417748196106    1.0145822518038916   4.913764004182222\n",
      "27   4.986476715483904    1.0135232845161117   4.919942927472659\n",
      "28   4.987424419786495    1.0125755802135146   4.925483605613748\n",
      "29   4.988275914308728    1.011724085691275   4.930470653864504\n"
     ]
    }
   ],
   "source": [
    "run = RunLayer()\n",
    "run.execute()"
   ]
  },
  {
   "cell_type": "code",
   "execution_count": 1,
   "metadata": {},
   "outputs": [
    {
     "ename": "NameError",
     "evalue": "name 'plt' is not defined",
     "output_type": "error",
     "traceback": [
      "\u001b[0;31m---------------------------------------------------------------------------\u001b[0m",
      "\u001b[0;31mNameError\u001b[0m                                 Traceback (most recent call last)",
      "\u001b[1;32m/Users/davidenicotra/Projects/TrackHHL/notebooks/kappa.ipynb Cell 9\u001b[0m line \u001b[0;36m1\n\u001b[0;32m----> <a href='vscode-notebook-cell:/Users/davidenicotra/Projects/TrackHHL/notebooks/kappa.ipynb#X11sZmlsZQ%3D%3D?line=0'>1</a>\u001b[0m plt\u001b[39m.\u001b[39mscatter(run\u001b[39m.\u001b[39mn_layers, run\u001b[39m.\u001b[39mkappa)\n\u001b[1;32m      <a href='vscode-notebook-cell:/Users/davidenicotra/Projects/TrackHHL/notebooks/kappa.ipynb#X11sZmlsZQ%3D%3D?line=1'>2</a>\u001b[0m plt\u001b[39m.\u001b[39mxlabel(\u001b[39m\"\u001b[39m\u001b[39mNumber of layers\u001b[39m\u001b[39m\"\u001b[39m)\n\u001b[1;32m      <a href='vscode-notebook-cell:/Users/davidenicotra/Projects/TrackHHL/notebooks/kappa.ipynb#X11sZmlsZQ%3D%3D?line=2'>3</a>\u001b[0m plt\u001b[39m.\u001b[39mylabel(\u001b[39m\"\u001b[39m\u001b[39mCondition number\u001b[39m\u001b[39m\"\u001b[39m)\n",
      "\u001b[0;31mNameError\u001b[0m: name 'plt' is not defined"
     ]
    }
   ],
   "source": [
    "plt.scatter(run.n_layers, run.kappa)\n",
    "plt.xlabel(\"Number of layers\")\n",
    "plt.ylabel(\"Condition number\")"
   ]
  },
  {
   "cell_type": "markdown",
   "metadata": {},
   "source": [
    "## Conclusions\n",
    "\n",
    "The condition number $\\kappa$ stays constant as a function of the number of particles while it increases asymptotically towards $\\approx 5$ as a function of the number of detection layers."
   ]
  },
  {
   "cell_type": "markdown",
   "metadata": {},
   "source": []
  }
 ],
 "metadata": {
  "kernelspec": {
   "display_name": "trackhhl-oT22-ukJ-py3.11",
   "language": "python",
   "name": "python3"
  },
  "language_info": {
   "codemirror_mode": {
    "name": "ipython",
    "version": 3
   },
   "file_extension": ".py",
   "mimetype": "text/x-python",
   "name": "python",
   "nbconvert_exporter": "python",
   "pygments_lexer": "ipython3",
   "version": "3.11.4"
  },
  "orig_nbformat": 4
 },
 "nbformat": 4,
 "nbformat_minor": 2
}
